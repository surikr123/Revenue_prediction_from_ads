{
 "cells": [
  {
   "cell_type": "markdown",
   "metadata": {},
   "source": [
    "## This challenge is the capstone project of the Summer Analytics, a primer course on Data Science, conducted by Consulting and Analytics Club of IIT Guwahati in the summers.\n",
    "The dataset is provided by DeltaX is the pioneering cross-channel digital advertising platform. The cloud-based platform leverages big data, user behavior, and machine learning algorithms to improve performance across the business funnel of advertisers.\n",
    "\n",
    "## Problem statement:\n",
    "an advertiser on the platform (DeltaX) would like to estimate the performance of their campaign in the future.\n",
    "Imagine it is the first day of March and you are given the past performance data of ads between 1st August to 28th Feb. You are now tasked to predict an ad's future performance (revenue) between March 1st and March 15th.\n",
    "\n",
    "### Model Performed\n",
    "1. XGBRegressor\n",
    "2. GradientBoostingRegressor\n",
    "3. Support vector Regressor\n",
    "4. RandomForestRegressor\n",
    "5. Nueral Network for regression"
   ]
  },
  {
   "cell_type": "markdown",
   "metadata": {},
   "source": [
    "### Importing important libraries"
   ]
  },
  {
   "cell_type": "code",
   "execution_count": 1,
   "metadata": {},
   "outputs": [],
   "source": [
    "import pandas as pd\n",
    "import numpy as np\n",
    "import matplotlib.pyplot as plt\n",
    "import seaborn as sns\n",
    "\n",
    "from sklearn.model_selection import train_test_split\n",
    "# from sklearn.model_selection import cross_val_score\n",
    "# from sklearn.model_selection import RepeatedKFold\n",
    "\n",
    "from sklearn.metrics import mean_absolute_error\n",
    "from sklearn.metrics import r2_score\n",
    "from sklearn.metrics import mean_squared_error\n",
    "from math import sqrt\n",
    "from sklearn.linear_model import LinearRegression\n",
    "\n",
    "from sklearn.preprocessing import StandardScaler\n",
    "\n",
    "from sklearn.preprocessing import OrdinalEncoder\n",
    "from sklearn.preprocessing import OneHotEncoder\n",
    "from sklearn.compose import make_column_transformer\n",
    "from sklearn.pipeline import make_pipeline\n",
    "\n",
    "from xgboost import XGBRegressor\n",
    "from sklearn.ensemble import GradientBoostingRegressor\n",
    "from sklearn.svm import SVR\n",
    "from sklearn.ensemble import RandomForestRegressor\n",
    "\n",
    "import tensorflow as tf"
   ]
  },
  {
   "cell_type": "markdown",
   "metadata": {},
   "source": [
    "### Importing Train data and exploration"
   ]
  },
  {
   "cell_type": "code",
   "execution_count": 2,
   "metadata": {
    "scrolled": true
   },
   "outputs": [
    {
     "data": {
      "text/html": [
       "<div>\n",
       "<style scoped>\n",
       "    .dataframe tbody tr th:only-of-type {\n",
       "        vertical-align: middle;\n",
       "    }\n",
       "\n",
       "    .dataframe tbody tr th {\n",
       "        vertical-align: top;\n",
       "    }\n",
       "\n",
       "    .dataframe thead th {\n",
       "        text-align: right;\n",
       "    }\n",
       "</style>\n",
       "<table border=\"1\" class=\"dataframe\">\n",
       "  <thead>\n",
       "    <tr style=\"text-align: right;\">\n",
       "      <th></th>\n",
       "      <th>date</th>\n",
       "      <th>campaign</th>\n",
       "      <th>adgroup</th>\n",
       "      <th>ad</th>\n",
       "      <th>impressions</th>\n",
       "      <th>clicks</th>\n",
       "      <th>cost</th>\n",
       "      <th>conversions</th>\n",
       "      <th>revenue</th>\n",
       "    </tr>\n",
       "  </thead>\n",
       "  <tbody>\n",
       "    <tr>\n",
       "      <th>0</th>\n",
       "      <td>01-08-2020</td>\n",
       "      <td>campaign 1</td>\n",
       "      <td>adgroup 1</td>\n",
       "      <td>ad 1</td>\n",
       "      <td>24</td>\n",
       "      <td>6</td>\n",
       "      <td>0.08</td>\n",
       "      <td>0</td>\n",
       "      <td>0.00</td>\n",
       "    </tr>\n",
       "    <tr>\n",
       "      <th>1</th>\n",
       "      <td>01-08-2020</td>\n",
       "      <td>campaign 1</td>\n",
       "      <td>adgroup 2</td>\n",
       "      <td>ad 1</td>\n",
       "      <td>1</td>\n",
       "      <td>0</td>\n",
       "      <td>0.00</td>\n",
       "      <td>0</td>\n",
       "      <td>0.00</td>\n",
       "    </tr>\n",
       "    <tr>\n",
       "      <th>2</th>\n",
       "      <td>01-08-2020</td>\n",
       "      <td>campaign 1</td>\n",
       "      <td>adgroup 3</td>\n",
       "      <td>ad 1</td>\n",
       "      <td>13</td>\n",
       "      <td>4</td>\n",
       "      <td>0.04</td>\n",
       "      <td>0</td>\n",
       "      <td>0.00</td>\n",
       "    </tr>\n",
       "    <tr>\n",
       "      <th>3</th>\n",
       "      <td>01-08-2020</td>\n",
       "      <td>campaign 1</td>\n",
       "      <td>adgroup 4</td>\n",
       "      <td>ad 1</td>\n",
       "      <td>5</td>\n",
       "      <td>4</td>\n",
       "      <td>0.08</td>\n",
       "      <td>0</td>\n",
       "      <td>0.00</td>\n",
       "    </tr>\n",
       "    <tr>\n",
       "      <th>4</th>\n",
       "      <td>01-08-2020</td>\n",
       "      <td>campaign 1</td>\n",
       "      <td>adgroup 1</td>\n",
       "      <td>ad 2</td>\n",
       "      <td>247</td>\n",
       "      <td>126</td>\n",
       "      <td>1.29</td>\n",
       "      <td>4</td>\n",
       "      <td>925.71</td>\n",
       "    </tr>\n",
       "  </tbody>\n",
       "</table>\n",
       "</div>"
      ],
      "text/plain": [
       "         date    campaign    adgroup    ad  impressions  clicks  cost  \\\n",
       "0  01-08-2020  campaign 1  adgroup 1  ad 1           24       6  0.08   \n",
       "1  01-08-2020  campaign 1  adgroup 2  ad 1            1       0  0.00   \n",
       "2  01-08-2020  campaign 1  adgroup 3  ad 1           13       4  0.04   \n",
       "3  01-08-2020  campaign 1  adgroup 4  ad 1            5       4  0.08   \n",
       "4  01-08-2020  campaign 1  adgroup 1  ad 2          247     126  1.29   \n",
       "\n",
       "   conversions  revenue  \n",
       "0            0     0.00  \n",
       "1            0     0.00  \n",
       "2            0     0.00  \n",
       "3            0     0.00  \n",
       "4            4   925.71  "
      ]
     },
     "execution_count": 2,
     "metadata": {},
     "output_type": "execute_result"
    }
   ],
   "source": [
    "data = pd.read_csv(\"Train_Data.csv\")\n",
    "data.head()"
   ]
  },
  {
   "cell_type": "code",
   "execution_count": 3,
   "metadata": {},
   "outputs": [
    {
     "name": "stdout",
     "output_type": "stream",
     "text": [
      "shape =  (4571, 9) \n",
      "\n",
      "<class 'pandas.core.frame.DataFrame'>\n",
      "RangeIndex: 4571 entries, 0 to 4570\n",
      "Data columns (total 9 columns):\n",
      " #   Column       Non-Null Count  Dtype  \n",
      "---  ------       --------------  -----  \n",
      " 0   date         4571 non-null   object \n",
      " 1   campaign     4571 non-null   object \n",
      " 2   adgroup      4571 non-null   object \n",
      " 3   ad           4571 non-null   object \n",
      " 4   impressions  4571 non-null   int64  \n",
      " 5   clicks       4571 non-null   int64  \n",
      " 6   cost         4571 non-null   float64\n",
      " 7   conversions  4571 non-null   int64  \n",
      " 8   revenue      4571 non-null   float64\n",
      "dtypes: float64(2), int64(3), object(4)\n",
      "memory usage: 321.5+ KB\n"
     ]
    }
   ],
   "source": [
    "print(\"shape = \",data.shape, \"\\n\")\n",
    "data.info()     #There is no nul value"
   ]
  },
  {
   "cell_type": "code",
   "execution_count": 4,
   "metadata": {},
   "outputs": [
    {
     "data": {
      "text/html": [
       "<div>\n",
       "<style scoped>\n",
       "    .dataframe tbody tr th:only-of-type {\n",
       "        vertical-align: middle;\n",
       "    }\n",
       "\n",
       "    .dataframe tbody tr th {\n",
       "        vertical-align: top;\n",
       "    }\n",
       "\n",
       "    .dataframe thead th {\n",
       "        text-align: right;\n",
       "    }\n",
       "</style>\n",
       "<table border=\"1\" class=\"dataframe\">\n",
       "  <thead>\n",
       "    <tr style=\"text-align: right;\">\n",
       "      <th></th>\n",
       "      <th>impressions</th>\n",
       "      <th>clicks</th>\n",
       "      <th>cost</th>\n",
       "      <th>conversions</th>\n",
       "      <th>revenue</th>\n",
       "    </tr>\n",
       "  </thead>\n",
       "  <tbody>\n",
       "    <tr>\n",
       "      <th>count</th>\n",
       "      <td>4571.000000</td>\n",
       "      <td>4571.000000</td>\n",
       "      <td>4571.000000</td>\n",
       "      <td>4571.000000</td>\n",
       "      <td>4571.000000</td>\n",
       "    </tr>\n",
       "    <tr>\n",
       "      <th>mean</th>\n",
       "      <td>92.635747</td>\n",
       "      <td>43.340844</td>\n",
       "      <td>2.800834</td>\n",
       "      <td>1.339094</td>\n",
       "      <td>231.865340</td>\n",
       "    </tr>\n",
       "    <tr>\n",
       "      <th>std</th>\n",
       "      <td>198.349737</td>\n",
       "      <td>100.164913</td>\n",
       "      <td>14.361618</td>\n",
       "      <td>5.223922</td>\n",
       "      <td>1091.742763</td>\n",
       "    </tr>\n",
       "    <tr>\n",
       "      <th>min</th>\n",
       "      <td>1.000000</td>\n",
       "      <td>0.000000</td>\n",
       "      <td>0.000000</td>\n",
       "      <td>0.000000</td>\n",
       "      <td>0.000000</td>\n",
       "    </tr>\n",
       "    <tr>\n",
       "      <th>25%</th>\n",
       "      <td>6.000000</td>\n",
       "      <td>2.000000</td>\n",
       "      <td>0.040000</td>\n",
       "      <td>0.000000</td>\n",
       "      <td>0.000000</td>\n",
       "    </tr>\n",
       "    <tr>\n",
       "      <th>50%</th>\n",
       "      <td>16.000000</td>\n",
       "      <td>7.000000</td>\n",
       "      <td>0.210000</td>\n",
       "      <td>0.000000</td>\n",
       "      <td>0.000000</td>\n",
       "    </tr>\n",
       "    <tr>\n",
       "      <th>75%</th>\n",
       "      <td>84.000000</td>\n",
       "      <td>38.000000</td>\n",
       "      <td>1.350000</td>\n",
       "      <td>1.000000</td>\n",
       "      <td>92.600000</td>\n",
       "    </tr>\n",
       "    <tr>\n",
       "      <th>max</th>\n",
       "      <td>3239.000000</td>\n",
       "      <td>1771.000000</td>\n",
       "      <td>531.250000</td>\n",
       "      <td>94.000000</td>\n",
       "      <td>20515.410000</td>\n",
       "    </tr>\n",
       "  </tbody>\n",
       "</table>\n",
       "</div>"
      ],
      "text/plain": [
       "       impressions       clicks         cost  conversions       revenue\n",
       "count  4571.000000  4571.000000  4571.000000  4571.000000   4571.000000\n",
       "mean     92.635747    43.340844     2.800834     1.339094    231.865340\n",
       "std     198.349737   100.164913    14.361618     5.223922   1091.742763\n",
       "min       1.000000     0.000000     0.000000     0.000000      0.000000\n",
       "25%       6.000000     2.000000     0.040000     0.000000      0.000000\n",
       "50%      16.000000     7.000000     0.210000     0.000000      0.000000\n",
       "75%      84.000000    38.000000     1.350000     1.000000     92.600000\n",
       "max    3239.000000  1771.000000   531.250000    94.000000  20515.410000"
      ]
     },
     "execution_count": 4,
     "metadata": {},
     "output_type": "execute_result"
    }
   ],
   "source": [
    "data.describe()"
   ]
  },
  {
   "cell_type": "code",
   "execution_count": 5,
   "metadata": {
    "scrolled": true
   },
   "outputs": [
    {
     "data": {
      "text/plain": [
       "<AxesSubplot:xlabel='adgroup', ylabel='revenue'>"
      ]
     },
     "execution_count": 5,
     "metadata": {},
     "output_type": "execute_result"
    },
    {
     "data": {
      "image/png": "[encoded data removed]",
      "text/plain": [
       "<Figure size 432x288 with 1 Axes>"
      ]
     },
     "metadata": {
      "needs_background": "light"
     },
     "output_type": "display_data"
    }
   ],
   "source": [
    "sns.boxplot(x=data['adgroup'],y=data['revenue'])"
   ]
  },
  {
   "cell_type": "code",
   "execution_count": 6,
   "metadata": {},
   "outputs": [
    {
     "data": {
      "text/html": [
       "<div>\n",
       "<style scoped>\n",
       "    .dataframe tbody tr th:only-of-type {\n",
       "        vertical-align: middle;\n",
       "    }\n",
       "\n",
       "    .dataframe tbody tr th {\n",
       "        vertical-align: top;\n",
       "    }\n",
       "\n",
       "    .dataframe thead th {\n",
       "        text-align: right;\n",
       "    }\n",
       "</style>\n",
       "<table border=\"1\" class=\"dataframe\">\n",
       "  <thead>\n",
       "    <tr style=\"text-align: right;\">\n",
       "      <th></th>\n",
       "      <th>impressions</th>\n",
       "      <th>clicks</th>\n",
       "      <th>cost</th>\n",
       "      <th>conversions</th>\n",
       "      <th>revenue</th>\n",
       "    </tr>\n",
       "  </thead>\n",
       "  <tbody>\n",
       "    <tr>\n",
       "      <th>impressions</th>\n",
       "      <td>1.000000</td>\n",
       "      <td>0.987514</td>\n",
       "      <td>0.682811</td>\n",
       "      <td>0.822149</td>\n",
       "      <td>0.759671</td>\n",
       "    </tr>\n",
       "    <tr>\n",
       "      <th>clicks</th>\n",
       "      <td>0.987514</td>\n",
       "      <td>1.000000</td>\n",
       "      <td>0.719925</td>\n",
       "      <td>0.856941</td>\n",
       "      <td>0.798282</td>\n",
       "    </tr>\n",
       "    <tr>\n",
       "      <th>cost</th>\n",
       "      <td>0.682811</td>\n",
       "      <td>0.719925</td>\n",
       "      <td>1.000000</td>\n",
       "      <td>0.672202</td>\n",
       "      <td>0.581662</td>\n",
       "    </tr>\n",
       "    <tr>\n",
       "      <th>conversions</th>\n",
       "      <td>0.822149</td>\n",
       "      <td>0.856941</td>\n",
       "      <td>0.672202</td>\n",
       "      <td>1.000000</td>\n",
       "      <td>0.964096</td>\n",
       "    </tr>\n",
       "    <tr>\n",
       "      <th>revenue</th>\n",
       "      <td>0.759671</td>\n",
       "      <td>0.798282</td>\n",
       "      <td>0.581662</td>\n",
       "      <td>0.964096</td>\n",
       "      <td>1.000000</td>\n",
       "    </tr>\n",
       "  </tbody>\n",
       "</table>\n",
       "</div>"
      ],
      "text/plain": [
       "             impressions    clicks      cost  conversions   revenue\n",
       "impressions     1.000000  0.987514  0.682811     0.822149  0.759671\n",
       "clicks          0.987514  1.000000  0.719925     0.856941  0.798282\n",
       "cost            0.682811  0.719925  1.000000     0.672202  0.581662\n",
       "conversions     0.822149  0.856941  0.672202     1.000000  0.964096\n",
       "revenue         0.759671  0.798282  0.581662     0.964096  1.000000"
      ]
     },
     "execution_count": 6,
     "metadata": {},
     "output_type": "execute_result"
    }
   ],
   "source": [
    "data.corr()    ## We can see that all the features are important to build model"
   ]
  },
  {
   "cell_type": "markdown",
   "metadata": {},
   "source": [
    "### Importing Test data(The data on which we want to estimate the revenue) and preparing it"
   ]
  },
  {
   "cell_type": "code",
   "execution_count": 7,
   "metadata": {},
   "outputs": [
    {
     "data": {
      "text/html": [
       "<div>\n",
       "<style scoped>\n",
       "    .dataframe tbody tr th:only-of-type {\n",
       "        vertical-align: middle;\n",
       "    }\n",
       "\n",
       "    .dataframe tbody tr th {\n",
       "        vertical-align: top;\n",
       "    }\n",
       "\n",
       "    .dataframe thead th {\n",
       "        text-align: right;\n",
       "    }\n",
       "</style>\n",
       "<table border=\"1\" class=\"dataframe\">\n",
       "  <thead>\n",
       "    <tr style=\"text-align: right;\">\n",
       "      <th></th>\n",
       "      <th>campaign</th>\n",
       "      <th>adgroup</th>\n",
       "      <th>impressions</th>\n",
       "      <th>clicks</th>\n",
       "      <th>cost</th>\n",
       "      <th>conversions</th>\n",
       "    </tr>\n",
       "  </thead>\n",
       "  <tbody>\n",
       "    <tr>\n",
       "      <th>0</th>\n",
       "      <td>campaign 1</td>\n",
       "      <td>adgroup 1</td>\n",
       "      <td>121</td>\n",
       "      <td>49</td>\n",
       "      <td>0.58</td>\n",
       "      <td>1</td>\n",
       "    </tr>\n",
       "    <tr>\n",
       "      <th>1</th>\n",
       "      <td>campaign 1</td>\n",
       "      <td>adgroup 3</td>\n",
       "      <td>22</td>\n",
       "      <td>12</td>\n",
       "      <td>0.17</td>\n",
       "      <td>0</td>\n",
       "    </tr>\n",
       "    <tr>\n",
       "      <th>2</th>\n",
       "      <td>campaign 1</td>\n",
       "      <td>adgroup 4</td>\n",
       "      <td>5</td>\n",
       "      <td>3</td>\n",
       "      <td>0.05</td>\n",
       "      <td>0</td>\n",
       "    </tr>\n",
       "    <tr>\n",
       "      <th>3</th>\n",
       "      <td>campaign 1</td>\n",
       "      <td>adgroup 2</td>\n",
       "      <td>2</td>\n",
       "      <td>1</td>\n",
       "      <td>0.01</td>\n",
       "      <td>0</td>\n",
       "    </tr>\n",
       "    <tr>\n",
       "      <th>4</th>\n",
       "      <td>campaign 1</td>\n",
       "      <td>adgroup 2</td>\n",
       "      <td>3</td>\n",
       "      <td>1</td>\n",
       "      <td>0.01</td>\n",
       "      <td>0</td>\n",
       "    </tr>\n",
       "  </tbody>\n",
       "</table>\n",
       "</div>"
      ],
      "text/plain": [
       "     campaign    adgroup  impressions  clicks  cost  conversions\n",
       "0  campaign 1  adgroup 1          121      49  0.58            1\n",
       "1  campaign 1  adgroup 3           22      12  0.17            0\n",
       "2  campaign 1  adgroup 4            5       3  0.05            0\n",
       "3  campaign 1  adgroup 2            2       1  0.01            0\n",
       "4  campaign 1  adgroup 2            3       1  0.01            0"
      ]
     },
     "execution_count": 7,
     "metadata": {},
     "output_type": "execute_result"
    }
   ],
   "source": [
    "test_df = pd.read_csv('Test_Data.csv')\n",
    "\n",
    "Xtest = test_df.drop(['date','ad'],axis=1)\n",
    "col = ['campaign','adgroup','impressions','clicks','cost','conversions']\n",
    "Xtest= Xtest[col]\n",
    "Xtest.head()"
   ]
  },
  {
   "cell_type": "code",
   "execution_count": 8,
   "metadata": {},
   "outputs": [],
   "source": [
    "# import sklearn\n",
    "# sklearn.metrics.SCORERS.keys()"
   ]
  },
  {
   "cell_type": "markdown",
   "metadata": {},
   "source": [
    "### Encoding and Scaling"
   ]
  },
  {
   "cell_type": "code",
   "execution_count": 9,
   "metadata": {
    "scrolled": true
   },
   "outputs": [
    {
     "data": {
      "text/html": [
       "<div>\n",
       "<style scoped>\n",
       "    .dataframe tbody tr th:only-of-type {\n",
       "        vertical-align: middle;\n",
       "    }\n",
       "\n",
       "    .dataframe tbody tr th {\n",
       "        vertical-align: top;\n",
       "    }\n",
       "\n",
       "    .dataframe thead th {\n",
       "        text-align: right;\n",
       "    }\n",
       "</style>\n",
       "<table border=\"1\" class=\"dataframe\">\n",
       "  <thead>\n",
       "    <tr style=\"text-align: right;\">\n",
       "      <th></th>\n",
       "      <th>campaign</th>\n",
       "      <th>adgroup</th>\n",
       "      <th>impressions</th>\n",
       "      <th>clicks</th>\n",
       "      <th>cost</th>\n",
       "      <th>conversions</th>\n",
       "    </tr>\n",
       "  </thead>\n",
       "  <tbody>\n",
       "    <tr>\n",
       "      <th>416</th>\n",
       "      <td>campaign 1</td>\n",
       "      <td>adgroup 2</td>\n",
       "      <td>-0.436831</td>\n",
       "      <td>-0.402788</td>\n",
       "      <td>-0.187383</td>\n",
       "      <td>-0.256367</td>\n",
       "    </tr>\n",
       "    <tr>\n",
       "      <th>1725</th>\n",
       "      <td>campaign 1</td>\n",
       "      <td>adgroup 1</td>\n",
       "      <td>-0.411620</td>\n",
       "      <td>-0.382819</td>\n",
       "      <td>-0.135155</td>\n",
       "      <td>-0.256367</td>\n",
       "    </tr>\n",
       "  </tbody>\n",
       "</table>\n",
       "</div>"
      ],
      "text/plain": [
       "        campaign    adgroup  impressions    clicks      cost  conversions\n",
       "416   campaign 1  adgroup 2    -0.436831 -0.402788 -0.187383    -0.256367\n",
       "1725  campaign 1  adgroup 1    -0.411620 -0.382819 -0.135155    -0.256367"
      ]
     },
     "execution_count": 9,
     "metadata": {},
     "output_type": "execute_result"
    }
   ],
   "source": [
    "X = data.drop(['date','revenue','ad'],axis=1)\n",
    "y = data.revenue\n",
    "\n",
    "\n",
    "sc = StandardScaler()\n",
    "# X = sc.fit_transform(X)\n",
    "# Xtest2 = sc.transform(Xtest2)\n",
    "cols =['impressions','clicks','cost','conversions']\n",
    "X[cols] = sc.fit_transform(X[cols])\n",
    "\n",
    "X_train,X_test,y_train,y_test = train_test_split(X,y,test_size=0.2,random_state=1)\n",
    "X_train.head(2)"
   ]
  },
  {
   "cell_type": "code",
   "execution_count": 10,
   "metadata": {},
   "outputs": [
    {
     "data": {
      "text/html": [
       "<div>\n",
       "<style scoped>\n",
       "    .dataframe tbody tr th:only-of-type {\n",
       "        vertical-align: middle;\n",
       "    }\n",
       "\n",
       "    .dataframe tbody tr th {\n",
       "        vertical-align: top;\n",
       "    }\n",
       "\n",
       "    .dataframe thead th {\n",
       "        text-align: right;\n",
       "    }\n",
       "</style>\n",
       "<table border=\"1\" class=\"dataframe\">\n",
       "  <thead>\n",
       "    <tr style=\"text-align: right;\">\n",
       "      <th></th>\n",
       "      <th>campaign</th>\n",
       "      <th>adgroup</th>\n",
       "      <th>impressions</th>\n",
       "      <th>clicks</th>\n",
       "      <th>cost</th>\n",
       "      <th>conversions</th>\n",
       "    </tr>\n",
       "  </thead>\n",
       "  <tbody>\n",
       "    <tr>\n",
       "      <th>0</th>\n",
       "      <td>campaign 1</td>\n",
       "      <td>adgroup 1</td>\n",
       "      <td>0.143017</td>\n",
       "      <td>0.056505</td>\n",
       "      <td>-0.154654</td>\n",
       "      <td>-0.064919</td>\n",
       "    </tr>\n",
       "    <tr>\n",
       "      <th>1</th>\n",
       "      <td>campaign 1</td>\n",
       "      <td>adgroup 3</td>\n",
       "      <td>-0.356156</td>\n",
       "      <td>-0.312927</td>\n",
       "      <td>-0.183205</td>\n",
       "      <td>-0.256367</td>\n",
       "    </tr>\n",
       "  </tbody>\n",
       "</table>\n",
       "</div>"
      ],
      "text/plain": [
       "     campaign    adgroup  impressions    clicks      cost  conversions\n",
       "0  campaign 1  adgroup 1     0.143017  0.056505 -0.154654    -0.064919\n",
       "1  campaign 1  adgroup 3    -0.356156 -0.312927 -0.183205    -0.256367"
      ]
     },
     "execution_count": 10,
     "metadata": {},
     "output_type": "execute_result"
    }
   ],
   "source": [
    "Xtest[cols] =sc.transform(Xtest[cols])\n",
    "Xtest.head(2)"
   ]
  },
  {
   "cell_type": "markdown",
   "metadata": {},
   "source": [
    "### XGBRegreoor model"
   ]
  },
  {
   "cell_type": "code",
   "execution_count": 11,
   "metadata": {},
   "outputs": [
    {
     "name": "stdout",
     "output_type": "stream",
     "text": [
      "MAE =  73.00142695288376\n",
      "r2 =  0.9201504694621716\n"
     ]
    }
   ],
   "source": [
    "columns_trans1 = make_column_transformer((OrdinalEncoder(),['campaign','adgroup']),remainder='passthrough')\n",
    "\n",
    "model = XGBRegressor(objective= 'reg:squarederror',learning_rate=0.2589,n_jobs=9,eval_metric='rmse')  #0.2589 was best for ordinal\n",
    "pipe2 = make_pipeline(columns_trans1,model)\n",
    "pipe2.fit(X_train,y_train)\n",
    "\n",
    "print(\"MAE = \",mean_absolute_error(y_test,pipe2.predict(X_test)) )\n",
    "print('r2 = ', r2_score(y_test,pipe2.predict(X_test)))\n"
   ]
  },
  {
   "cell_type": "markdown",
   "metadata": {},
   "source": [
    "#### Testing"
   ]
  },
  {
   "cell_type": "code",
   "execution_count": 12,
   "metadata": {
    "scrolled": true
   },
   "outputs": [
    {
     "data": {
      "text/html": [
       "<div>\n",
       "<style scoped>\n",
       "    .dataframe tbody tr th:only-of-type {\n",
       "        vertical-align: middle;\n",
       "    }\n",
       "\n",
       "    .dataframe tbody tr th {\n",
       "        vertical-align: top;\n",
       "    }\n",
       "\n",
       "    .dataframe thead th {\n",
       "        text-align: right;\n",
       "    }\n",
       "</style>\n",
       "<table border=\"1\" class=\"dataframe\">\n",
       "  <thead>\n",
       "    <tr style=\"text-align: right;\">\n",
       "      <th></th>\n",
       "      <th>revenue</th>\n",
       "    </tr>\n",
       "  </thead>\n",
       "  <tbody>\n",
       "    <tr>\n",
       "      <th>0</th>\n",
       "      <td>159.806274</td>\n",
       "    </tr>\n",
       "    <tr>\n",
       "      <th>1</th>\n",
       "      <td>-2.060985</td>\n",
       "    </tr>\n",
       "    <tr>\n",
       "      <th>2</th>\n",
       "      <td>0.127345</td>\n",
       "    </tr>\n",
       "    <tr>\n",
       "      <th>3</th>\n",
       "      <td>0.127345</td>\n",
       "    </tr>\n",
       "    <tr>\n",
       "      <th>4</th>\n",
       "      <td>0.127345</td>\n",
       "    </tr>\n",
       "  </tbody>\n",
       "</table>\n",
       "</div>"
      ],
      "text/plain": [
       "      revenue\n",
       "0  159.806274\n",
       "1   -2.060985\n",
       "2    0.127345\n",
       "3    0.127345\n",
       "4    0.127345"
      ]
     },
     "execution_count": 12,
     "metadata": {},
     "output_type": "execute_result"
    }
   ],
   "source": [
    "res = pd.DataFrame(pipe2.predict(Xtest),columns=['revenue'])\n",
    "res.to_csv('result.csv')\n",
    "res.head()"
   ]
  },
  {
   "cell_type": "markdown",
   "metadata": {},
   "source": [
    "### GradientBoostingRegressor Model"
   ]
  },
  {
   "cell_type": "code",
   "execution_count": 13,
   "metadata": {},
   "outputs": [
    {
     "name": "stdout",
     "output_type": "stream",
     "text": [
      "MAE =  72.70996015482041\n",
      "r2 =  0.908022958611577\n"
     ]
    }
   ],
   "source": [
    "columns_trans2 = make_column_transformer((OrdinalEncoder(),['campaign','adgroup']),remainder='passthrough')\n",
    "\n",
    "model =GradientBoostingRegressor(learning_rate=0.18)\n",
    "pipe3 = make_pipeline(columns_trans2, model)\n",
    "pipe3.fit(X_train,y_train)\n",
    "\n",
    "print(\"MAE = \",mean_absolute_error(y_test,pipe3.predict(X_test)) )\n",
    "print('r2 = ', r2_score(y_test,pipe3.predict(X_test)))"
   ]
  },
  {
   "cell_type": "markdown",
   "metadata": {},
   "source": [
    "#### Testing"
   ]
  },
  {
   "cell_type": "code",
   "execution_count": 14,
   "metadata": {},
   "outputs": [
    {
     "data": {
      "text/html": [
       "<div>\n",
       "<style scoped>\n",
       "    .dataframe tbody tr th:only-of-type {\n",
       "        vertical-align: middle;\n",
       "    }\n",
       "\n",
       "    .dataframe tbody tr th {\n",
       "        vertical-align: top;\n",
       "    }\n",
       "\n",
       "    .dataframe thead th {\n",
       "        text-align: right;\n",
       "    }\n",
       "</style>\n",
       "<table border=\"1\" class=\"dataframe\">\n",
       "  <thead>\n",
       "    <tr style=\"text-align: right;\">\n",
       "      <th></th>\n",
       "      <th>revenue</th>\n",
       "    </tr>\n",
       "  </thead>\n",
       "  <tbody>\n",
       "    <tr>\n",
       "      <th>0</th>\n",
       "      <td>150.967654</td>\n",
       "    </tr>\n",
       "    <tr>\n",
       "      <th>1</th>\n",
       "      <td>-0.263622</td>\n",
       "    </tr>\n",
       "    <tr>\n",
       "      <th>2</th>\n",
       "      <td>-0.263622</td>\n",
       "    </tr>\n",
       "    <tr>\n",
       "      <th>3</th>\n",
       "      <td>-0.263622</td>\n",
       "    </tr>\n",
       "    <tr>\n",
       "      <th>4</th>\n",
       "      <td>-0.263622</td>\n",
       "    </tr>\n",
       "  </tbody>\n",
       "</table>\n",
       "</div>"
      ],
      "text/plain": [
       "      revenue\n",
       "0  150.967654\n",
       "1   -0.263622\n",
       "2   -0.263622\n",
       "3   -0.263622\n",
       "4   -0.263622"
      ]
     },
     "execution_count": 14,
     "metadata": {},
     "output_type": "execute_result"
    }
   ],
   "source": [
    "res = pd.DataFrame(pipe3.predict(Xtest),columns=['revenue'])\n",
    "res.to_csv('result.csv')\n",
    "res.head()"
   ]
  },
  {
   "cell_type": "markdown",
   "metadata": {},
   "source": [
    "### Support vector Regressor"
   ]
  },
  {
   "cell_type": "code",
   "execution_count": 15,
   "metadata": {},
   "outputs": [
    {
     "name": "stdout",
     "output_type": "stream",
     "text": [
      "MAE =  109.71951871059541\n",
      "r2 =  0.2655523658780289\n"
     ]
    }
   ],
   "source": [
    "columns_trans1 = make_column_transformer((OrdinalEncoder(),['campaign','adgroup']),remainder='passthrough')\n",
    "\n",
    "model = SVR(kernel='rbf', C=100, gamma=0.1, epsilon=.1)\n",
    "pipe2 = make_pipeline(columns_trans1,model)\n",
    "pipe2.fit(X_train,y_train)\n",
    "\n",
    "print(\"MAE = \",mean_absolute_error(y_test,pipe2.predict(X_test)) )\n",
    "print('r2 = ', r2_score(y_test,pipe2.predict(X_test)))\n"
   ]
  },
  {
   "cell_type": "markdown",
   "metadata": {},
   "source": [
    "#### Testing"
   ]
  },
  {
   "cell_type": "code",
   "execution_count": 16,
   "metadata": {
    "scrolled": true
   },
   "outputs": [
    {
     "data": {
      "text/html": [
       "<div>\n",
       "<style scoped>\n",
       "    .dataframe tbody tr th:only-of-type {\n",
       "        vertical-align: middle;\n",
       "    }\n",
       "\n",
       "    .dataframe tbody tr th {\n",
       "        vertical-align: top;\n",
       "    }\n",
       "\n",
       "    .dataframe thead th {\n",
       "        text-align: right;\n",
       "    }\n",
       "</style>\n",
       "<table border=\"1\" class=\"dataframe\">\n",
       "  <thead>\n",
       "    <tr style=\"text-align: right;\">\n",
       "      <th></th>\n",
       "      <th>revenue</th>\n",
       "    </tr>\n",
       "  </thead>\n",
       "  <tbody>\n",
       "    <tr>\n",
       "      <th>0</th>\n",
       "      <td>114.603942</td>\n",
       "    </tr>\n",
       "    <tr>\n",
       "      <th>1</th>\n",
       "      <td>-0.253773</td>\n",
       "    </tr>\n",
       "    <tr>\n",
       "      <th>2</th>\n",
       "      <td>-0.019248</td>\n",
       "    </tr>\n",
       "    <tr>\n",
       "      <th>3</th>\n",
       "      <td>0.100284</td>\n",
       "    </tr>\n",
       "    <tr>\n",
       "      <th>4</th>\n",
       "      <td>0.040165</td>\n",
       "    </tr>\n",
       "  </tbody>\n",
       "</table>\n",
       "</div>"
      ],
      "text/plain": [
       "      revenue\n",
       "0  114.603942\n",
       "1   -0.253773\n",
       "2   -0.019248\n",
       "3    0.100284\n",
       "4    0.040165"
      ]
     },
     "execution_count": 16,
     "metadata": {},
     "output_type": "execute_result"
    }
   ],
   "source": [
    "res = pd.DataFrame(pipe2.predict(Xtest),columns=['revenue'])\n",
    "res.to_csv('result.csv')\n",
    "res.head()"
   ]
  },
  {
   "cell_type": "markdown",
   "metadata": {},
   "source": [
    "### RandomForestRegressor model"
   ]
  },
  {
   "cell_type": "code",
   "execution_count": 17,
   "metadata": {},
   "outputs": [
    {
     "name": "stdout",
     "output_type": "stream",
     "text": [
      "MAE =  66.06285416407988\n",
      "r2 =  0.9165912483634262\n"
     ]
    }
   ],
   "source": [
    "columns_trans1 = make_column_transformer((OrdinalEncoder(),['campaign','adgroup']),remainder='passthrough')\n",
    "\n",
    "model =RandomForestRegressor(max_depth=5, random_state=1)\n",
    "pipe2 = make_pipeline(columns_trans1,model)\n",
    "pipe2.fit(X_train,y_train)\n",
    "\n",
    "print(\"MAE = \",mean_absolute_error(y_test,pipe2.predict(X_test)) )\n",
    "print('r2 = ', r2_score(y_test,pipe2.predict(X_test)))\n"
   ]
  },
  {
   "cell_type": "code",
   "execution_count": 18,
   "metadata": {},
   "outputs": [
    {
     "data": {
      "text/html": [
       "<div>\n",
       "<style scoped>\n",
       "    .dataframe tbody tr th:only-of-type {\n",
       "        vertical-align: middle;\n",
       "    }\n",
       "\n",
       "    .dataframe tbody tr th {\n",
       "        vertical-align: top;\n",
       "    }\n",
       "\n",
       "    .dataframe thead th {\n",
       "        text-align: right;\n",
       "    }\n",
       "</style>\n",
       "<table border=\"1\" class=\"dataframe\">\n",
       "  <thead>\n",
       "    <tr style=\"text-align: right;\">\n",
       "      <th></th>\n",
       "      <th>revenue</th>\n",
       "    </tr>\n",
       "  </thead>\n",
       "  <tbody>\n",
       "    <tr>\n",
       "      <th>0</th>\n",
       "      <td>150.036839</td>\n",
       "    </tr>\n",
       "    <tr>\n",
       "      <th>1</th>\n",
       "      <td>0.000000</td>\n",
       "    </tr>\n",
       "    <tr>\n",
       "      <th>2</th>\n",
       "      <td>0.000000</td>\n",
       "    </tr>\n",
       "    <tr>\n",
       "      <th>3</th>\n",
       "      <td>0.000000</td>\n",
       "    </tr>\n",
       "    <tr>\n",
       "      <th>4</th>\n",
       "      <td>0.000000</td>\n",
       "    </tr>\n",
       "  </tbody>\n",
       "</table>\n",
       "</div>"
      ],
      "text/plain": [
       "      revenue\n",
       "0  150.036839\n",
       "1    0.000000\n",
       "2    0.000000\n",
       "3    0.000000\n",
       "4    0.000000"
      ]
     },
     "execution_count": 18,
     "metadata": {},
     "output_type": "execute_result"
    }
   ],
   "source": [
    "res = pd.DataFrame(pipe2.predict(Xtest),columns=['revenue'])\n",
    "res.to_csv('result.csv')\n",
    "res.head()"
   ]
  },
  {
   "cell_type": "markdown",
   "metadata": {},
   "source": [
    "### Get Dummies to Apply a Nueral Network Method"
   ]
  },
  {
   "cell_type": "code",
   "execution_count": 19,
   "metadata": {
    "scrolled": true
   },
   "outputs": [
    {
     "data": {
      "text/html": [
       "<div>\n",
       "<style scoped>\n",
       "    .dataframe tbody tr th:only-of-type {\n",
       "        vertical-align: middle;\n",
       "    }\n",
       "\n",
       "    .dataframe tbody tr th {\n",
       "        vertical-align: top;\n",
       "    }\n",
       "\n",
       "    .dataframe thead th {\n",
       "        text-align: right;\n",
       "    }\n",
       "</style>\n",
       "<table border=\"1\" class=\"dataframe\">\n",
       "  <thead>\n",
       "    <tr style=\"text-align: right;\">\n",
       "      <th></th>\n",
       "      <th>campaign</th>\n",
       "      <th>adgroup</th>\n",
       "      <th>impressions</th>\n",
       "      <th>clicks</th>\n",
       "      <th>cost</th>\n",
       "      <th>conversions</th>\n",
       "    </tr>\n",
       "  </thead>\n",
       "  <tbody>\n",
       "    <tr>\n",
       "      <th>0</th>\n",
       "      <td>0.0</td>\n",
       "      <td>0.0</td>\n",
       "      <td>-0.346072</td>\n",
       "      <td>-0.372834</td>\n",
       "      <td>-0.189472</td>\n",
       "      <td>-0.256367</td>\n",
       "    </tr>\n",
       "    <tr>\n",
       "      <th>1</th>\n",
       "      <td>0.0</td>\n",
       "      <td>1.0</td>\n",
       "      <td>-0.462041</td>\n",
       "      <td>-0.432742</td>\n",
       "      <td>-0.195043</td>\n",
       "      <td>-0.256367</td>\n",
       "    </tr>\n",
       "    <tr>\n",
       "      <th>2</th>\n",
       "      <td>0.0</td>\n",
       "      <td>2.0</td>\n",
       "      <td>-0.401535</td>\n",
       "      <td>-0.392804</td>\n",
       "      <td>-0.192258</td>\n",
       "      <td>-0.256367</td>\n",
       "    </tr>\n",
       "    <tr>\n",
       "      <th>3</th>\n",
       "      <td>0.0</td>\n",
       "      <td>3.0</td>\n",
       "      <td>-0.441873</td>\n",
       "      <td>-0.392804</td>\n",
       "      <td>-0.189472</td>\n",
       "      <td>-0.256367</td>\n",
       "    </tr>\n",
       "    <tr>\n",
       "      <th>4</th>\n",
       "      <td>0.0</td>\n",
       "      <td>0.0</td>\n",
       "      <td>0.778328</td>\n",
       "      <td>0.825321</td>\n",
       "      <td>-0.105211</td>\n",
       "      <td>0.509425</td>\n",
       "    </tr>\n",
       "  </tbody>\n",
       "</table>\n",
       "</div>"
      ],
      "text/plain": [
       "   campaign  adgroup  impressions    clicks      cost  conversions\n",
       "0       0.0      0.0    -0.346072 -0.372834 -0.189472    -0.256367\n",
       "1       0.0      1.0    -0.462041 -0.432742 -0.195043    -0.256367\n",
       "2       0.0      2.0    -0.401535 -0.392804 -0.192258    -0.256367\n",
       "3       0.0      3.0    -0.441873 -0.392804 -0.189472    -0.256367\n",
       "4       0.0      0.0     0.778328  0.825321 -0.105211     0.509425"
      ]
     },
     "execution_count": 19,
     "metadata": {},
     "output_type": "execute_result"
    }
   ],
   "source": [
    "ode= OrdinalEncoder()\n",
    "X[['adgroup','campaign']] = ode.fit_transform(X[['adgroup','campaign']])\n",
    "X.head()"
   ]
  },
  {
   "cell_type": "code",
   "execution_count": 20,
   "metadata": {
    "scrolled": true
   },
   "outputs": [
    {
     "data": {
      "text/html": [
       "<div>\n",
       "<style scoped>\n",
       "    .dataframe tbody tr th:only-of-type {\n",
       "        vertical-align: middle;\n",
       "    }\n",
       "\n",
       "    .dataframe tbody tr th {\n",
       "        vertical-align: top;\n",
       "    }\n",
       "\n",
       "    .dataframe thead th {\n",
       "        text-align: right;\n",
       "    }\n",
       "</style>\n",
       "<table border=\"1\" class=\"dataframe\">\n",
       "  <thead>\n",
       "    <tr style=\"text-align: right;\">\n",
       "      <th></th>\n",
       "      <th>campaign</th>\n",
       "      <th>adgroup</th>\n",
       "      <th>impressions</th>\n",
       "      <th>clicks</th>\n",
       "      <th>cost</th>\n",
       "      <th>conversions</th>\n",
       "    </tr>\n",
       "  </thead>\n",
       "  <tbody>\n",
       "    <tr>\n",
       "      <th>0</th>\n",
       "      <td>0.0</td>\n",
       "      <td>0.0</td>\n",
       "      <td>0.143017</td>\n",
       "      <td>0.056505</td>\n",
       "      <td>-0.154654</td>\n",
       "      <td>-0.064919</td>\n",
       "    </tr>\n",
       "    <tr>\n",
       "      <th>1</th>\n",
       "      <td>0.0</td>\n",
       "      <td>2.0</td>\n",
       "      <td>-0.356156</td>\n",
       "      <td>-0.312927</td>\n",
       "      <td>-0.183205</td>\n",
       "      <td>-0.256367</td>\n",
       "    </tr>\n",
       "    <tr>\n",
       "      <th>2</th>\n",
       "      <td>0.0</td>\n",
       "      <td>3.0</td>\n",
       "      <td>-0.441873</td>\n",
       "      <td>-0.402788</td>\n",
       "      <td>-0.191562</td>\n",
       "      <td>-0.256367</td>\n",
       "    </tr>\n",
       "    <tr>\n",
       "      <th>3</th>\n",
       "      <td>0.0</td>\n",
       "      <td>1.0</td>\n",
       "      <td>-0.456999</td>\n",
       "      <td>-0.422758</td>\n",
       "      <td>-0.194347</td>\n",
       "      <td>-0.256367</td>\n",
       "    </tr>\n",
       "    <tr>\n",
       "      <th>4</th>\n",
       "      <td>0.0</td>\n",
       "      <td>1.0</td>\n",
       "      <td>-0.451957</td>\n",
       "      <td>-0.422758</td>\n",
       "      <td>-0.194347</td>\n",
       "      <td>-0.256367</td>\n",
       "    </tr>\n",
       "  </tbody>\n",
       "</table>\n",
       "</div>"
      ],
      "text/plain": [
       "   campaign  adgroup  impressions    clicks      cost  conversions\n",
       "0       0.0      0.0     0.143017  0.056505 -0.154654    -0.064919\n",
       "1       0.0      2.0    -0.356156 -0.312927 -0.183205    -0.256367\n",
       "2       0.0      3.0    -0.441873 -0.402788 -0.191562    -0.256367\n",
       "3       0.0      1.0    -0.456999 -0.422758 -0.194347    -0.256367\n",
       "4       0.0      1.0    -0.451957 -0.422758 -0.194347    -0.256367"
      ]
     },
     "execution_count": 20,
     "metadata": {},
     "output_type": "execute_result"
    }
   ],
   "source": [
    "Xtest[['adgroup','campaign']] = ode.fit_transform(Xtest[['adgroup','campaign']])\n",
    "Xtest.head()"
   ]
  },
  {
   "cell_type": "code",
   "execution_count": 21,
   "metadata": {},
   "outputs": [],
   "source": [
    "from keras.wrappers.scikit_learn import KerasClassifier\n",
    "from sklearn.model_selection import GridSearchCV\n",
    "from keras.wrappers.scikit_learn import KerasRegressor\n"
   ]
  },
  {
   "cell_type": "markdown",
   "metadata": {},
   "source": [
    "### Creat a function to find appropriate parameters"
   ]
  },
  {
   "cell_type": "code",
   "execution_count": 22,
   "metadata": {},
   "outputs": [],
   "source": [
    "def create_model(layers,activation):\n",
    "    model = tf.keras.models.Sequential()\n",
    "    for i, nodes in enumerate(layers):\n",
    "        if i==0:\n",
    "            model.add(tf.keras.layers.Dense(nodes,input_dim=X.shape[1]))\n",
    "            model.add(tf.keras.layers.Activation(activation))\n",
    "        else:\n",
    "            model.add(tf.keras.layers.Dense(nodes))\n",
    "            model.add(tf.Keras.layers.Activation(activation))\n",
    "        model.add(tf.keras.layers.Dense(1))\n",
    "        model.compile(loss='mean_absolute_error', optimizer='adam', metrics=['mean_absolute_error'])\n",
    "        return model\n",
    "modeltemp = KerasRegressor(build_fn= create_model,verbose=0)"
   ]
  },
  {
   "cell_type": "code",
   "execution_count": 23,
   "metadata": {},
   "outputs": [],
   "source": [
    "layers = [[250,200,150,100],[250,250,200,150],[250,250,200,200]]\n",
    "activations = ['sigmoid','relu']\n",
    "param_grid = dict(layers=layers,activation=activations,batch_size=[18,21,24,30,50],epochs=[100])\n",
    "grid = GridSearchCV(estimator=modeltemp,param_grid=param_grid)"
   ]
  },
  {
   "cell_type": "code",
   "execution_count": 24,
   "metadata": {},
   "outputs": [],
   "source": [
    "grid_result = grid.fit(X,y)"
   ]
  },
  {
   "cell_type": "code",
   "execution_count": 25,
   "metadata": {},
   "outputs": [
    {
     "data": {
      "text/plain": [
       "[-76.02501525878907,\n",
       " {'activation': 'relu',\n",
       "  'batch_size': 18,\n",
       "  'epochs': 100,\n",
       "  'layers': [250, 250, 200, 150]}]"
      ]
     },
     "execution_count": 25,
     "metadata": {},
     "output_type": "execute_result"
    }
   ],
   "source": [
    "[grid_result.best_score_, grid_result.best_params_]"
   ]
  },
  {
   "cell_type": "code",
   "execution_count": 28,
   "metadata": {},
   "outputs": [
    {
     "data": {
      "text/html": [
       "<div>\n",
       "<style scoped>\n",
       "    .dataframe tbody tr th:only-of-type {\n",
       "        vertical-align: middle;\n",
       "    }\n",
       "\n",
       "    .dataframe tbody tr th {\n",
       "        vertical-align: top;\n",
       "    }\n",
       "\n",
       "    .dataframe thead th {\n",
       "        text-align: right;\n",
       "    }\n",
       "</style>\n",
       "<table border=\"1\" class=\"dataframe\">\n",
       "  <thead>\n",
       "    <tr style=\"text-align: right;\">\n",
       "      <th></th>\n",
       "      <th>revenue</th>\n",
       "    </tr>\n",
       "  </thead>\n",
       "  <tbody>\n",
       "    <tr>\n",
       "      <th>0</th>\n",
       "      <td>135.275833</td>\n",
       "    </tr>\n",
       "    <tr>\n",
       "      <th>1</th>\n",
       "      <td>-0.277630</td>\n",
       "    </tr>\n",
       "    <tr>\n",
       "      <th>2</th>\n",
       "      <td>-0.423089</td>\n",
       "    </tr>\n",
       "    <tr>\n",
       "      <th>3</th>\n",
       "      <td>-0.259541</td>\n",
       "    </tr>\n",
       "    <tr>\n",
       "      <th>4</th>\n",
       "      <td>-0.247575</td>\n",
       "    </tr>\n",
       "  </tbody>\n",
       "</table>\n",
       "</div>"
      ],
      "text/plain": [
       "      revenue\n",
       "0  135.275833\n",
       "1   -0.277630\n",
       "2   -0.423089\n",
       "3   -0.259541\n",
       "4   -0.247575"
      ]
     },
     "execution_count": 28,
     "metadata": {},
     "output_type": "execute_result"
    }
   ],
   "source": [
    "res = pd.DataFrame(grid.predict(Xtest),columns=['revenue'])\n",
    "res.to_csv('result.csv')\n",
    "res.head()"
   ]
  },
  {
   "cell_type": "markdown",
   "metadata": {},
   "source": [
    "### Neural network model using thode params"
   ]
  },
  {
   "cell_type": "code",
   "execution_count": 29,
   "metadata": {},
   "outputs": [],
   "source": [
    "model3 = tf.keras.models.Sequential()\n",
    "# model3.add(tf.keras.layers.Flatten())\n",
    "model3.add(tf.keras.layers.Dense(250,kernel_initializer='normal',input_dim = X.shape[1], activation=tf.nn.relu))\n",
    "\n",
    "model3.add(tf.keras.layers.Dense(250,kernel_initializer='normal', activation=tf.nn.relu))\n",
    "model3.add(tf.keras.layers.Dense(200,kernel_initializer='normal', activation=tf.nn.relu))\n",
    "model3.add(tf.keras.layers.Dense(150,kernel_initializer='normal', activation=tf.nn.relu))\n",
    "model3.add(tf.keras.layers.Dense(1,kernel_initializer='normal', activation='linear'))\n",
    "model3.compile(loss='mean_absolute_error', optimizer='adam', metrics=['mean_absolute_error'])\n"
   ]
  },
  {
   "cell_type": "code",
   "execution_count": 30,
   "metadata": {},
   "outputs": [
    {
     "name": "stdout",
     "output_type": "stream",
     "text": [
      "Epoch 1/100\n",
      "204/204 [==============================] - 1s 2ms/step - loss: 173.3451 - mean_absolute_error: 173.3451 - val_loss: 54.6956 - val_mean_absolute_error: 54.6956\n",
      "Epoch 2/100\n",
      "204/204 [==============================] - 0s 2ms/step - loss: 86.1203 - mean_absolute_error: 86.1203 - val_loss: 75.0666 - val_mean_absolute_error: 75.0666\n",
      "Epoch 3/100\n",
      "204/204 [==============================] - 0s 2ms/step - loss: 79.8122 - mean_absolute_error: 79.8122 - val_loss: 46.7248 - val_mean_absolute_error: 46.7248\n",
      "Epoch 4/100\n",
      "204/204 [==============================] - 0s 2ms/step - loss: 79.7817 - mean_absolute_error: 79.7817 - val_loss: 41.9531 - val_mean_absolute_error: 41.9531\n",
      "Epoch 5/100\n",
      "204/204 [==============================] - 0s 2ms/step - loss: 76.6489 - mean_absolute_error: 76.6489 - val_loss: 52.6236 - val_mean_absolute_error: 52.6236\n",
      "Epoch 6/100\n",
      "204/204 [==============================] - 0s 2ms/step - loss: 75.2848 - mean_absolute_error: 75.2848 - val_loss: 42.0472 - val_mean_absolute_error: 42.0472\n",
      "Epoch 7/100\n",
      "204/204 [==============================] - 0s 2ms/step - loss: 76.8534 - mean_absolute_error: 76.8534 - val_loss: 46.3404 - val_mean_absolute_error: 46.3404\n",
      "Epoch 8/100\n",
      "204/204 [==============================] - 0s 2ms/step - loss: 74.1561 - mean_absolute_error: 74.1561 - val_loss: 68.7306 - val_mean_absolute_error: 68.7306\n",
      "Epoch 9/100\n",
      "204/204 [==============================] - 0s 2ms/step - loss: 72.9484 - mean_absolute_error: 72.9484 - val_loss: 63.9258 - val_mean_absolute_error: 63.9258\n",
      "Epoch 10/100\n",
      "204/204 [==============================] - 0s 2ms/step - loss: 75.4495 - mean_absolute_error: 75.4495 - val_loss: 56.5310 - val_mean_absolute_error: 56.5310\n",
      "Epoch 11/100\n",
      "204/204 [==============================] - 0s 2ms/step - loss: 71.2892 - mean_absolute_error: 71.2892 - val_loss: 58.5841 - val_mean_absolute_error: 58.5841\n",
      "Epoch 12/100\n",
      "204/204 [==============================] - 0s 2ms/step - loss: 85.1577 - mean_absolute_error: 85.1577 - val_loss: 40.6491 - val_mean_absolute_error: 40.6491\n",
      "Epoch 13/100\n",
      "204/204 [==============================] - 0s 2ms/step - loss: 73.0090 - mean_absolute_error: 73.0090 - val_loss: 50.2256 - val_mean_absolute_error: 50.2256\n",
      "Epoch 14/100\n",
      "204/204 [==============================] - 0s 2ms/step - loss: 72.1505 - mean_absolute_error: 72.1505 - val_loss: 47.8966 - val_mean_absolute_error: 47.8966\n",
      "Epoch 15/100\n",
      "204/204 [==============================] - 0s 2ms/step - loss: 72.5146 - mean_absolute_error: 72.5146 - val_loss: 48.2989 - val_mean_absolute_error: 48.2989\n",
      "Epoch 16/100\n",
      "204/204 [==============================] - 0s 2ms/step - loss: 73.1283 - mean_absolute_error: 73.1283 - val_loss: 68.8484 - val_mean_absolute_error: 68.8484\n",
      "Epoch 17/100\n",
      "204/204 [==============================] - 0s 2ms/step - loss: 73.6075 - mean_absolute_error: 73.6075 - val_loss: 59.8617 - val_mean_absolute_error: 59.8617\n",
      "Epoch 18/100\n",
      "204/204 [==============================] - 0s 2ms/step - loss: 72.6791 - mean_absolute_error: 72.6791 - val_loss: 47.3259 - val_mean_absolute_error: 47.3259\n",
      "Epoch 19/100\n",
      "204/204 [==============================] - 0s 2ms/step - loss: 71.5531 - mean_absolute_error: 71.5531 - val_loss: 64.4600 - val_mean_absolute_error: 64.4600\n",
      "Epoch 20/100\n",
      "204/204 [==============================] - 0s 2ms/step - loss: 71.3266 - mean_absolute_error: 71.3266 - val_loss: 54.7917 - val_mean_absolute_error: 54.7917\n",
      "Epoch 21/100\n",
      "204/204 [==============================] - 0s 2ms/step - loss: 92.1963 - mean_absolute_error: 92.1963 - val_loss: 46.8529 - val_mean_absolute_error: 46.8529\n",
      "Epoch 22/100\n",
      "204/204 [==============================] - 0s 2ms/step - loss: 71.6485 - mean_absolute_error: 71.6485 - val_loss: 56.7964 - val_mean_absolute_error: 56.7964\n",
      "Epoch 23/100\n",
      "204/204 [==============================] - 0s 2ms/step - loss: 71.4658 - mean_absolute_error: 71.4658 - val_loss: 43.2893 - val_mean_absolute_error: 43.2893\n",
      "Epoch 24/100\n",
      "204/204 [==============================] - 0s 2ms/step - loss: 71.0161 - mean_absolute_error: 71.0161 - val_loss: 55.0943 - val_mean_absolute_error: 55.0943\n",
      "Epoch 25/100\n",
      "204/204 [==============================] - 0s 2ms/step - loss: 70.9815 - mean_absolute_error: 70.9815 - val_loss: 56.3614 - val_mean_absolute_error: 56.3614\n",
      "Epoch 26/100\n",
      "204/204 [==============================] - 0s 2ms/step - loss: 70.1702 - mean_absolute_error: 70.1702 - val_loss: 51.9916 - val_mean_absolute_error: 51.9916\n",
      "Epoch 27/100\n",
      "204/204 [==============================] - 0s 2ms/step - loss: 72.9370 - mean_absolute_error: 72.9370 - val_loss: 51.7843 - val_mean_absolute_error: 51.7843\n",
      "Epoch 28/100\n",
      "204/204 [==============================] - 0s 2ms/step - loss: 70.4255 - mean_absolute_error: 70.4255 - val_loss: 52.3087 - val_mean_absolute_error: 52.3087\n",
      "Epoch 29/100\n",
      "204/204 [==============================] - 0s 2ms/step - loss: 71.9546 - mean_absolute_error: 71.9546 - val_loss: 55.5335 - val_mean_absolute_error: 55.5335\n",
      "Epoch 30/100\n",
      "204/204 [==============================] - 0s 2ms/step - loss: 69.9809 - mean_absolute_error: 69.9809 - val_loss: 56.5090 - val_mean_absolute_error: 56.5090\n",
      "Epoch 31/100\n",
      "204/204 [==============================] - 0s 2ms/step - loss: 70.2604 - mean_absolute_error: 70.2604 - val_loss: 52.1215 - val_mean_absolute_error: 52.1215\n",
      "Epoch 32/100\n",
      "204/204 [==============================] - 0s 2ms/step - loss: 69.3197 - mean_absolute_error: 69.3197 - val_loss: 45.7950 - val_mean_absolute_error: 45.7950\n",
      "Epoch 33/100\n",
      "204/204 [==============================] - 0s 2ms/step - loss: 68.8961 - mean_absolute_error: 68.8961 - val_loss: 65.1239 - val_mean_absolute_error: 65.1239\n",
      "Epoch 34/100\n",
      "204/204 [==============================] - 0s 2ms/step - loss: 69.2208 - mean_absolute_error: 69.2208 - val_loss: 48.5708 - val_mean_absolute_error: 48.5708\n",
      "Epoch 35/100\n",
      "204/204 [==============================] - 0s 2ms/step - loss: 69.3439 - mean_absolute_error: 69.3439 - val_loss: 44.0418 - val_mean_absolute_error: 44.0418\n",
      "Epoch 36/100\n",
      "204/204 [==============================] - 0s 2ms/step - loss: 67.4888 - mean_absolute_error: 67.4888 - val_loss: 40.2039 - val_mean_absolute_error: 40.2039\n",
      "Epoch 37/100\n",
      "204/204 [==============================] - 0s 2ms/step - loss: 72.5759 - mean_absolute_error: 72.5759 - val_loss: 44.0847 - val_mean_absolute_error: 44.0847\n",
      "Epoch 38/100\n",
      "204/204 [==============================] - 0s 2ms/step - loss: 68.8201 - mean_absolute_error: 68.8201 - val_loss: 43.3694 - val_mean_absolute_error: 43.3694\n",
      "Epoch 39/100\n",
      "204/204 [==============================] - 0s 2ms/step - loss: 70.4644 - mean_absolute_error: 70.4644 - val_loss: 40.5740 - val_mean_absolute_error: 40.5740\n",
      "Epoch 40/100\n",
      "204/204 [==============================] - 0s 2ms/step - loss: 69.4538 - mean_absolute_error: 69.4538 - val_loss: 44.9638 - val_mean_absolute_error: 44.9638\n",
      "Epoch 41/100\n",
      "204/204 [==============================] - 0s 2ms/step - loss: 68.3887 - mean_absolute_error: 68.3887 - val_loss: 64.1699 - val_mean_absolute_error: 64.1699\n",
      "Epoch 42/100\n",
      "204/204 [==============================] - 0s 2ms/step - loss: 71.1291 - mean_absolute_error: 71.1291 - val_loss: 52.7720 - val_mean_absolute_error: 52.7720\n",
      "Epoch 43/100\n",
      "204/204 [==============================] - 0s 2ms/step - loss: 69.3521 - mean_absolute_error: 69.3521 - val_loss: 57.6172 - val_mean_absolute_error: 57.6172\n",
      "Epoch 44/100\n",
      "204/204 [==============================] - 0s 2ms/step - loss: 71.5676 - mean_absolute_error: 71.5676 - val_loss: 56.7189 - val_mean_absolute_error: 56.7190\n",
      "Epoch 45/100\n",
      "204/204 [==============================] - 0s 2ms/step - loss: 68.4955 - mean_absolute_error: 68.4955 - val_loss: 60.6964 - val_mean_absolute_error: 60.6964\n",
      "Epoch 46/100\n",
      "204/204 [==============================] - 0s 2ms/step - loss: 66.6544 - mean_absolute_error: 66.6544 - val_loss: 52.3820 - val_mean_absolute_error: 52.3820\n",
      "Epoch 47/100\n",
      "204/204 [==============================] - 0s 2ms/step - loss: 70.4276 - mean_absolute_error: 70.4276 - val_loss: 52.8245 - val_mean_absolute_error: 52.8245\n",
      "Epoch 48/100\n",
      "204/204 [==============================] - 0s 2ms/step - loss: 70.7586 - mean_absolute_error: 70.7586 - val_loss: 43.1174 - val_mean_absolute_error: 43.1174\n",
      "Epoch 49/100\n",
      "204/204 [==============================] - 0s 2ms/step - loss: 72.1638 - mean_absolute_error: 72.1638 - val_loss: 53.9538 - val_mean_absolute_error: 53.9538\n",
      "Epoch 50/100\n",
      "204/204 [==============================] - 0s 2ms/step - loss: 70.8011 - mean_absolute_error: 70.8011 - val_loss: 40.8338 - val_mean_absolute_error: 40.8338\n",
      "Epoch 51/100\n",
      "204/204 [==============================] - 0s 2ms/step - loss: 64.6787 - mean_absolute_error: 64.6787 - val_loss: 61.1826 - val_mean_absolute_error: 61.1826\n",
      "Epoch 52/100\n",
      "204/204 [==============================] - 0s 2ms/step - loss: 69.1851 - mean_absolute_error: 69.1851 - val_loss: 46.3453 - val_mean_absolute_error: 46.3453\n",
      "Epoch 53/100\n",
      "204/204 [==============================] - 0s 2ms/step - loss: 68.3520 - mean_absolute_error: 68.3520 - val_loss: 43.9686 - val_mean_absolute_error: 43.9686\n",
      "Epoch 54/100\n",
      "204/204 [==============================] - 0s 2ms/step - loss: 67.1706 - mean_absolute_error: 67.1706 - val_loss: 55.3319 - val_mean_absolute_error: 55.3318\n",
      "Epoch 55/100\n",
      "204/204 [==============================] - 0s 2ms/step - loss: 67.4172 - mean_absolute_error: 67.4172 - val_loss: 40.5619 - val_mean_absolute_error: 40.5619\n",
      "Epoch 56/100\n",
      "204/204 [==============================] - 0s 2ms/step - loss: 69.8234 - mean_absolute_error: 69.8234 - val_loss: 50.0819 - val_mean_absolute_error: 50.0819\n",
      "Epoch 57/100\n",
      "204/204 [==============================] - 0s 2ms/step - loss: 66.8949 - mean_absolute_error: 66.8949 - val_loss: 39.9114 - val_mean_absolute_error: 39.9114\n",
      "Epoch 58/100\n",
      "204/204 [==============================] - 0s 2ms/step - loss: 69.6183 - mean_absolute_error: 69.6183 - val_loss: 41.3318 - val_mean_absolute_error: 41.3318\n",
      "Epoch 59/100\n",
      "204/204 [==============================] - 0s 2ms/step - loss: 68.4585 - mean_absolute_error: 68.4585 - val_loss: 55.2949 - val_mean_absolute_error: 55.2949\n",
      "Epoch 60/100\n",
      "204/204 [==============================] - 0s 2ms/step - loss: 70.1793 - mean_absolute_error: 70.1793 - val_loss: 49.5856 - val_mean_absolute_error: 49.5856\n",
      "Epoch 61/100\n",
      "204/204 [==============================] - 0s 2ms/step - loss: 67.3785 - mean_absolute_error: 67.3785 - val_loss: 51.7456 - val_mean_absolute_error: 51.7456\n",
      "Epoch 62/100\n",
      "204/204 [==============================] - 0s 2ms/step - loss: 67.6858 - mean_absolute_error: 67.6858 - val_loss: 53.5921 - val_mean_absolute_error: 53.5921\n",
      "Epoch 63/100\n",
      "204/204 [==============================] - 0s 2ms/step - loss: 69.0822 - mean_absolute_error: 69.0822 - val_loss: 48.8366 - val_mean_absolute_error: 48.8366\n",
      "Epoch 64/100\n",
      "204/204 [==============================] - 0s 2ms/step - loss: 73.4217 - mean_absolute_error: 73.4217 - val_loss: 43.1108 - val_mean_absolute_error: 43.1108\n",
      "Epoch 65/100\n",
      "204/204 [==============================] - 0s 2ms/step - loss: 65.9514 - mean_absolute_error: 65.9514 - val_loss: 48.9036 - val_mean_absolute_error: 48.9036\n",
      "Epoch 66/100\n",
      "204/204 [==============================] - 0s 2ms/step - loss: 67.6473 - mean_absolute_error: 67.6473 - val_loss: 44.9532 - val_mean_absolute_error: 44.9532\n",
      "Epoch 67/100\n",
      "204/204 [==============================] - 0s 2ms/step - loss: 65.7372 - mean_absolute_error: 65.7372 - val_loss: 44.9883 - val_mean_absolute_error: 44.9883\n",
      "Epoch 68/100\n",
      "204/204 [==============================] - 0s 2ms/step - loss: 67.2976 - mean_absolute_error: 67.2976 - val_loss: 46.7550 - val_mean_absolute_error: 46.7550\n",
      "Epoch 69/100\n",
      "204/204 [==============================] - 0s 2ms/step - loss: 65.6308 - mean_absolute_error: 65.6308 - val_loss: 51.7908 - val_mean_absolute_error: 51.7908\n",
      "Epoch 70/100\n",
      "204/204 [==============================] - 0s 2ms/step - loss: 69.6051 - mean_absolute_error: 69.6051 - val_loss: 43.1353 - val_mean_absolute_error: 43.1353\n",
      "Epoch 71/100\n",
      "204/204 [==============================] - 0s 2ms/step - loss: 65.3814 - mean_absolute_error: 65.3814 - val_loss: 46.4212 - val_mean_absolute_error: 46.4212\n",
      "Epoch 72/100\n",
      "204/204 [==============================] - 0s 2ms/step - loss: 70.5770 - mean_absolute_error: 70.5770 - val_loss: 50.3350 - val_mean_absolute_error: 50.3350\n",
      "Epoch 73/100\n",
      "204/204 [==============================] - 0s 2ms/step - loss: 68.4074 - mean_absolute_error: 68.4074 - val_loss: 42.1804 - val_mean_absolute_error: 42.1804\n",
      "Epoch 74/100\n",
      "204/204 [==============================] - 0s 2ms/step - loss: 83.4289 - mean_absolute_error: 83.4289 - val_loss: 57.7733 - val_mean_absolute_error: 57.7733\n",
      "Epoch 75/100\n",
      "204/204 [==============================] - 0s 2ms/step - loss: 66.3318 - mean_absolute_error: 66.3318 - val_loss: 71.6791 - val_mean_absolute_error: 71.6791\n",
      "Epoch 76/100\n",
      "204/204 [==============================] - 0s 2ms/step - loss: 66.2324 - mean_absolute_error: 66.2324 - val_loss: 49.9601 - val_mean_absolute_error: 49.9601\n",
      "Epoch 77/100\n",
      "204/204 [==============================] - 0s 2ms/step - loss: 65.9537 - mean_absolute_error: 65.9537 - val_loss: 57.2629 - val_mean_absolute_error: 57.2629\n",
      "Epoch 78/100\n",
      "204/204 [==============================] - 0s 2ms/step - loss: 64.7134 - mean_absolute_error: 64.7134 - val_loss: 45.3225 - val_mean_absolute_error: 45.3225\n",
      "Epoch 79/100\n",
      "204/204 [==============================] - 0s 2ms/step - loss: 63.3691 - mean_absolute_error: 63.3691 - val_loss: 42.1630 - val_mean_absolute_error: 42.1630\n",
      "Epoch 80/100\n",
      "204/204 [==============================] - 0s 2ms/step - loss: 65.7377 - mean_absolute_error: 65.7377 - val_loss: 49.1590 - val_mean_absolute_error: 49.1590\n",
      "Epoch 81/100\n",
      "204/204 [==============================] - 0s 2ms/step - loss: 65.2929 - mean_absolute_error: 65.2929 - val_loss: 59.3599 - val_mean_absolute_error: 59.3599\n",
      "Epoch 82/100\n",
      "204/204 [==============================] - 0s 2ms/step - loss: 66.0064 - mean_absolute_error: 66.0064 - val_loss: 51.8337 - val_mean_absolute_error: 51.8337\n",
      "Epoch 83/100\n",
      "204/204 [==============================] - 0s 2ms/step - loss: 68.8821 - mean_absolute_error: 68.8821 - val_loss: 54.5943 - val_mean_absolute_error: 54.5943\n",
      "Epoch 84/100\n",
      "204/204 [==============================] - 0s 2ms/step - loss: 65.4404 - mean_absolute_error: 65.4404 - val_loss: 46.1175 - val_mean_absolute_error: 46.1175\n",
      "Epoch 85/100\n",
      "204/204 [==============================] - 0s 2ms/step - loss: 66.7901 - mean_absolute_error: 66.7901 - val_loss: 44.2278 - val_mean_absolute_error: 44.2278\n",
      "Epoch 86/100\n",
      "204/204 [==============================] - 1s 3ms/step - loss: 66.5456 - mean_absolute_error: 66.5456 - val_loss: 64.7273 - val_mean_absolute_error: 64.7273\n",
      "Epoch 87/100\n",
      "204/204 [==============================] - 0s 2ms/step - loss: 67.1941 - mean_absolute_error: 67.1941 - val_loss: 61.9263 - val_mean_absolute_error: 61.9264\n",
      "Epoch 88/100\n",
      "204/204 [==============================] - 0s 2ms/step - loss: 67.6178 - mean_absolute_error: 67.6178 - val_loss: 40.8826 - val_mean_absolute_error: 40.8826\n",
      "Epoch 89/100\n",
      "204/204 [==============================] - 0s 2ms/step - loss: 66.6791 - mean_absolute_error: 66.6791 - val_loss: 47.4425 - val_mean_absolute_error: 47.4425\n",
      "Epoch 90/100\n",
      "204/204 [==============================] - 1s 3ms/step - loss: 66.5163 - mean_absolute_error: 66.5163 - val_loss: 49.9516 - val_mean_absolute_error: 49.9516\n",
      "Epoch 91/100\n",
      "204/204 [==============================] - 0s 2ms/step - loss: 66.0547 - mean_absolute_error: 66.0547 - val_loss: 46.4975 - val_mean_absolute_error: 46.4975\n",
      "Epoch 92/100\n",
      "204/204 [==============================] - 1s 2ms/step - loss: 63.5002 - mean_absolute_error: 63.5002 - val_loss: 49.6995 - val_mean_absolute_error: 49.6995\n",
      "Epoch 93/100\n",
      "204/204 [==============================] - 0s 2ms/step - loss: 66.4586 - mean_absolute_error: 66.4586 - val_loss: 46.5326 - val_mean_absolute_error: 46.5326\n",
      "Epoch 94/100\n",
      "204/204 [==============================] - 0s 2ms/step - loss: 66.0306 - mean_absolute_error: 66.0306 - val_loss: 51.4905 - val_mean_absolute_error: 51.4905\n",
      "Epoch 95/100\n",
      "204/204 [==============================] - 0s 2ms/step - loss: 67.1607 - mean_absolute_error: 67.1607 - val_loss: 49.2504 - val_mean_absolute_error: 49.2504\n",
      "Epoch 96/100\n",
      "204/204 [==============================] - 0s 2ms/step - loss: 64.3993 - mean_absolute_error: 64.3993 - val_loss: 62.2662 - val_mean_absolute_error: 62.2662\n",
      "Epoch 97/100\n"
     ]
    },
    {
     "name": "stdout",
     "output_type": "stream",
     "text": [
      "204/204 [==============================] - 0s 2ms/step - loss: 65.9108 - mean_absolute_error: 65.9108 - val_loss: 49.7122 - val_mean_absolute_error: 49.7122\n",
      "Epoch 98/100\n",
      "204/204 [==============================] - 1s 3ms/step - loss: 64.8540 - mean_absolute_error: 64.8540 - val_loss: 43.8257 - val_mean_absolute_error: 43.8257\n",
      "Epoch 99/100\n",
      "204/204 [==============================] - 1s 3ms/step - loss: 64.5680 - mean_absolute_error: 64.5680 - val_loss: 61.7078 - val_mean_absolute_error: 61.7078\n",
      "Epoch 100/100\n",
      "204/204 [==============================] - 0s 2ms/step - loss: 69.3012 - mean_absolute_error: 69.3012 - val_loss: 46.1963 - val_mean_absolute_error: 46.1963\n"
     ]
    },
    {
     "data": {
      "text/plain": [
       "<tensorflow.python.keras.callbacks.History at 0x2dafd2316d0>"
      ]
     },
     "execution_count": 30,
     "metadata": {},
     "output_type": "execute_result"
    }
   ],
   "source": [
    "model3.fit(X, y, epochs=100, batch_size=18, validation_split = 0.2)\n"
   ]
  },
  {
   "cell_type": "code",
   "execution_count": 32,
   "metadata": {},
   "outputs": [
    {
     "data": {
      "text/html": [
       "<div>\n",
       "<style scoped>\n",
       "    .dataframe tbody tr th:only-of-type {\n",
       "        vertical-align: middle;\n",
       "    }\n",
       "\n",
       "    .dataframe tbody tr th {\n",
       "        vertical-align: top;\n",
       "    }\n",
       "\n",
       "    .dataframe thead th {\n",
       "        text-align: right;\n",
       "    }\n",
       "</style>\n",
       "<table border=\"1\" class=\"dataframe\">\n",
       "  <thead>\n",
       "    <tr style=\"text-align: right;\">\n",
       "      <th></th>\n",
       "      <th>revenue</th>\n",
       "    </tr>\n",
       "  </thead>\n",
       "  <tbody>\n",
       "    <tr>\n",
       "      <th>0</th>\n",
       "      <td>168.692856</td>\n",
       "    </tr>\n",
       "    <tr>\n",
       "      <th>1</th>\n",
       "      <td>-0.000924</td>\n",
       "    </tr>\n",
       "    <tr>\n",
       "      <th>2</th>\n",
       "      <td>-0.001834</td>\n",
       "    </tr>\n",
       "    <tr>\n",
       "      <th>3</th>\n",
       "      <td>-0.002275</td>\n",
       "    </tr>\n",
       "    <tr>\n",
       "      <th>4</th>\n",
       "      <td>-0.002275</td>\n",
       "    </tr>\n",
       "    <tr>\n",
       "      <th>5</th>\n",
       "      <td>-0.001853</td>\n",
       "    </tr>\n",
       "    <tr>\n",
       "      <th>6</th>\n",
       "      <td>123.247093</td>\n",
       "    </tr>\n",
       "  </tbody>\n",
       "</table>\n",
       "</div>"
      ],
      "text/plain": [
       "      revenue\n",
       "0  168.692856\n",
       "1   -0.000924\n",
       "2   -0.001834\n",
       "3   -0.002275\n",
       "4   -0.002275\n",
       "5   -0.001853\n",
       "6  123.247093"
      ]
     },
     "execution_count": 32,
     "metadata": {},
     "output_type": "execute_result"
    }
   ],
   "source": [
    "res = pd.DataFrame(model3.predict(Xtest),columns=['revenue'])\n",
    "res.to_csv('result.csv')\n",
    "res.head(7)"
   ]
  },
  {
   "cell_type": "markdown",
   "metadata": {},
   "source": [
    "## Conclusions:\n",
    "1. XGBRegressor and RandomForestRegressor model predicted most accuratly\n",
    "2. Archived RMSE value of ~122 for private leaderboard and 130.86 for public leaderboard"
   ]
  },
  {
   "cell_type": "code",
   "execution_count": null,
   "metadata": {},
   "outputs": [],
   "source": []
  }
 ],
 "metadata": {
  "kernelspec": {
   "display_name": "Python 3",
   "language": "python",
   "name": "python3"
  },
  "language_info": {
   "codemirror_mode": {
    "name": "ipython",
    "version": 3
   },
   "file_extension": ".py",
   "mimetype": "text/x-python",
   "name": "python",
   "nbconvert_exporter": "python",
   "pygments_lexer": "ipython3",
   "version": "3.8.8"
  }
 },
 "nbformat": 4,
 "nbformat_minor": 2
}
